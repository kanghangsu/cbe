{
 "cells": [
  {
   "cell_type": "markdown",
   "metadata": {},
   "source": [
    "# 백준 문제 풀이"
   ]
  },
  {
   "cell_type": "markdown",
   "metadata": {},
   "source": [
    "## 단계1: 입출력과 사칙연산"
   ]
  },
  {
   "cell_type": "code",
   "execution_count": 1,
   "metadata": {},
   "outputs": [
    {
     "name": "stdout",
     "output_type": "stream",
     "text": [
      "Hello World!\n"
     ]
    }
   ],
   "source": [
    "# 문제번호2557: Hello World\n",
    "# <https://www.acmicpc.net/problem/2557>\n",
    "print(\"Hello World!\")"
   ]
  },
  {
   "cell_type": "code",
   "execution_count": 4,
   "metadata": {},
   "outputs": [
    {
     "name": "stdout",
     "output_type": "stream",
     "text": [
      "3\n"
     ]
    }
   ],
   "source": [
    "# 문제번호1000: A+B\n",
    "# <https://www.acmicpc.net/problem/1000>\n",
    "nums = input()\n",
    "A = int(nums.split(\" \")[0])\n",
    "B = int(nums.split(\" \")[-1])\n",
    "ANS = A + B\n",
    "print(ANS)"
   ]
  },
  {
   "cell_type": "code",
   "execution_count": 5,
   "metadata": {},
   "outputs": [
    {
     "name": "stdout",
     "output_type": "stream",
     "text": [
      "1\n"
     ]
    }
   ],
   "source": [
    "# 문제번호1001: A-B\n",
    "# <https://www.acmicpc.net/problem/1001>\n",
    "nums = input()\n",
    "A = int(nums.split(\" \")[0])\n",
    "B = int(nums.split(\" \")[-1])\n",
    "ANS = A - B\n",
    "print(ANS)"
   ]
  },
  {
   "cell_type": "code",
   "execution_count": 8,
   "metadata": {},
   "outputs": [
    {
     "name": "stdout",
     "output_type": "stream",
     "text": [
      "12\n"
     ]
    }
   ],
   "source": [
    "# 문제번호10998: A*B\n",
    "# <https://www.acmicpc.net/problem/10998>\n",
    "nums = input()\n",
    "A = int(nums.split(\" \")[0])\n",
    "B = int(nums.split(\" \")[-1])\n",
    "ANS = A * B\n",
    "print(ANS)"
   ]
  },
  {
   "cell_type": "code",
   "execution_count": 10,
   "metadata": {},
   "outputs": [
    {
     "name": "stdout",
     "output_type": "stream",
     "text": [
      "0.3333333333333333\n"
     ]
    }
   ],
   "source": [
    "# <https://www.acmicpc.net/problem/1008>\n",
    "nums = input()\n",
    "A = int(nums.split(\" \")[0])\n",
    "B = int(nums.split(\" \")[-1])\n",
    "ANS = A / B\n",
    "print(ANS)"
   ]
  },
  {
   "cell_type": "code",
   "execution_count": 11,
   "metadata": {},
   "outputs": [
    {
     "name": "stdout",
     "output_type": "stream",
     "text": [
      "10\n",
      "4\n",
      "21\n",
      "2\n",
      "1\n"
     ]
    }
   ],
   "source": [
    "# <https://www.acmicpc.net/problem/10869>\n",
    "nums = input()\n",
    "A = int(nums.split(\" \")[0])\n",
    "B = int(nums.split(\" \")[-1])\n",
    "ANS_1 = A + B\n",
    "ANS_2 = A - B\n",
    "ANS_3 = A * B\n",
    "ANS_4 = A // B\n",
    "ANS_5 = A % B\n",
    "print(ANS_1)\n",
    "print(ANS_2)\n",
    "print(ANS_3)\n",
    "print(ANS_4)\n",
    "print(ANS_5)"
   ]
  },
  {
   "cell_type": "code",
   "execution_count": 12,
   "metadata": {},
   "outputs": [
    {
     "name": "stdout",
     "output_type": "stream",
     "text": [
      "joonas??!\n"
     ]
    }
   ],
   "source": [
    "# <https://www.acmicpc.net/problem/10926>\n",
    "name = input()\n",
    "wow = \"??!\"\n",
    "print(name, wow, sep=\"\")"
   ]
  },
  {
   "cell_type": "code",
   "execution_count": 13,
   "metadata": {},
   "outputs": [
    {
     "name": "stdout",
     "output_type": "stream",
     "text": [
      "1998\n"
     ]
    }
   ],
   "source": [
    "# <https://www.acmicpc.net/problem/18108>\n",
    "bul_year = int(input())\n",
    "seo_year = bul_year - 2541 + 1998\n",
    "print(seo_year)"
   ]
  },
  {
   "cell_type": "code",
   "execution_count": 14,
   "metadata": {},
   "outputs": [
    {
     "name": "stdout",
     "output_type": "stream",
     "text": [
      "1\n",
      "1\n",
      "0\n",
      "0\n"
     ]
    }
   ],
   "source": [
    "# <https://www.acmicpc.net/problem/10430>\n",
    "nums = input().split(\" \")\n",
    "a = int(nums[0])\n",
    "b = int(nums[1])\n",
    "c = int(nums[2])\n",
    "ans1 = (a + b) % c\n",
    "ans2 = ((a % c) + (b % c)) % c\n",
    "ans3 = (a * b) % c\n",
    "ans4 = ((a % c) * (b % c)) % c\n",
    "print(ans1)\n",
    "print(ans2)\n",
    "print(ans3)\n",
    "print(ans4)"
   ]
  },
  {
   "cell_type": "code",
   "execution_count": 16,
   "metadata": {},
   "outputs": [
    {
     "name": "stdout",
     "output_type": "stream",
     "text": [
      "2360\n",
      "3776\n",
      "1416\n",
      "181720\n"
     ]
    }
   ],
   "source": [
    "# <https://www.acmicpc.net/problem/2588>\n",
    "num1 = input()\n",
    "num2 = input()\n",
    "ans1 = int(num1) * int(num2[-1])\n",
    "ans2 = int(num1) * int(num2[-2])\n",
    "ans3 = int(num1) * int(num2[-3])\n",
    "ans4 = int(num1) * int(num2)\n",
    "print(ans1)\n",
    "print(ans2)\n",
    "print(ans3)\n",
    "print(ans4)"
   ]
  },
  {
   "cell_type": "code",
   "execution_count": 17,
   "metadata": {},
   "outputs": [
    {
     "name": "stdout",
     "output_type": "stream",
     "text": [
      "7931\n"
     ]
    }
   ],
   "source": [
    "# <https://www.acmicpc.net/problem/11382>\n",
    "nums = input().split(\" \")\n",
    "a = int(nums[0])\n",
    "b = int(nums[1])\n",
    "c = int(nums[2])\n",
    "ans = a + b + c\n",
    "print(ans)"
   ]
  },
  {
   "cell_type": "code",
   "execution_count": 21,
   "metadata": {},
   "outputs": [
    {
     "name": "stdout",
     "output_type": "stream",
     "text": [
      "\\    /\\\n",
      " )  ( ')\n",
      "(  /  )\n",
      " \\(__)|\n"
     ]
    }
   ],
   "source": [
    "# <https://www.acmicpc.net/problem/10171>\n",
    "cat = \"\"\"\\\\    /\\\\\n",
    " )  ( ')\n",
    "(  /  )\n",
    " \\\\(__)|\"\"\"\n",
    "print(cat)"
   ]
  },
  {
   "cell_type": "code",
   "execution_count": 24,
   "metadata": {},
   "outputs": [
    {
     "name": "stdout",
     "output_type": "stream",
     "text": [
      "|\\_/|\n",
      "|q p|   /}\n",
      "( 0 )\"\"\"\\\n",
      "|\"^\"`    |\n",
      "||_/=\\\\__|\n"
     ]
    }
   ],
   "source": [
    "# <https://www.acmicpc.net/problem/10172>\n",
    "dog = r'''|\\_/|\n",
    "|q p|   /}\n",
    "( 0 )\"\"\"\\\n",
    "|\"^\"`    |\n",
    "||_/=\\\\__|'''\n",
    "print(dog)"
   ]
  },
  {
   "cell_type": "markdown",
   "metadata": {},
   "source": [
    "## 단계2: 조건문"
   ]
  },
  {
   "cell_type": "code",
   "execution_count": 32,
   "metadata": {},
   "outputs": [
    {
     "name": "stdout",
     "output_type": "stream",
     "text": [
      "==\n"
     ]
    }
   ],
   "source": [
    "# <https://www.acmicpc.net/problem/1330>\n",
    "nums = input().split(\" \")\n",
    "a = int(nums[0])\n",
    "b = int(nums[1])\n",
    "if a < b :\n",
    "    print(\"<\")\n",
    "elif a == b :\n",
    "    print(\"==\")\n",
    "else :\n",
    "    print(\">\")"
   ]
  },
  {
   "cell_type": "code",
   "execution_count": 35,
   "metadata": {},
   "outputs": [
    {
     "name": "stdout",
     "output_type": "stream",
     "text": [
      "F\n"
     ]
    }
   ],
   "source": [
    "# <https://www.acmicpc.net/problem/9498>\n",
    "scr = int(input())\n",
    "if scr >= 90 :\n",
    "    print(\"A\")\n",
    "elif scr >= 80 :\n",
    "    print(\"B\")\n",
    "elif scr >= 70 :\n",
    "    print(\"C\")\n",
    "elif scr >= 60 :\n",
    "    print(\"D\")\n",
    "else :\n",
    "    print(\"F\")"
   ]
  },
  {
   "cell_type": "code",
   "execution_count": 37,
   "metadata": {},
   "outputs": [
    {
     "name": "stdout",
     "output_type": "stream",
     "text": [
      "0\n"
     ]
    }
   ],
   "source": [
    "# <https://www.acmicpc.net/problem/2753>\n",
    "year = int(input())\n",
    "if (year % 4 == 0) and ((year % 100 != 0) or (year % 400 == 0)):\n",
    "    print(1)\n",
    "else:\n",
    "    print(0)"
   ]
  },
  {
   "cell_type": "code",
   "execution_count": 39,
   "metadata": {},
   "outputs": [
    {
     "name": "stdout",
     "output_type": "stream",
     "text": [
      "4\n"
     ]
    }
   ],
   "source": [
    "# <https://www.acmicpc.net/problem/14681>\n",
    "x = int(input(\"x\"))\n",
    "y = int(input(\"y\"))\n",
    "if y > 0 :\n",
    "    if x > 0 :\n",
    "        print(1)\n",
    "    else :\n",
    "        print(2)\n",
    "else :\n",
    "    if x < 0 :\n",
    "        print(3)\n",
    "    else :\n",
    "        print(4)"
   ]
  },
  {
   "cell_type": "code",
   "execution_count": 40,
   "metadata": {},
   "outputs": [
    {
     "name": "stdout",
     "output_type": "stream",
     "text": [
      "22 55\n"
     ]
    }
   ],
   "source": [
    "# <https://www.acmicpc.net/problem/2884>\n",
    "\n",
    "time_target = input()\n",
    "\n",
    "time_target_h = int(time_target.split(\" \")[0])\n",
    "time_target_m = int(time_target.split(\" \")[1])\n",
    "\n",
    "time_target_MM = time_target_h * 60 + time_target_m\n",
    "time_alarm_MM = time_target_MM - 45\n",
    "\n",
    "if time_alarm_MM < 0 :\n",
    "    time_alarm_MM = time_alarm_MM + (24 * 60)\n",
    "\n",
    "time_alarm_h = time_alarm_MM // 60\n",
    "time_alarm_m = time_alarm_MM % 60\n",
    "\n",
    "print(time_alarm_h, time_alarm_m)\n",
    "\n",
    "\n",
    "\n",
    "\n",
    "time = input()\n",
    "\n",
    "H = int(time.split(\" \")[0])\n",
    "M = int(time.split(\" \")[1])\n",
    "\n",
    "HM = int(H * 60 + M)\n",
    "alarm_HM = int(HM - 45)\n",
    "\n",
    "if alarm_HM < 0 :\n",
    "    alarm_HM = int(alarm_HM + (24 * 60))\n",
    "\n",
    "alarm_H = str(alarm_HM // 60)\n",
    "alarm_M = str(alarm_HM % 60)\n",
    "\n",
    "print(alarm_H, alarm_M)\n"
   ]
  },
  {
   "cell_type": "code",
   "execution_count": 36,
   "metadata": {},
   "outputs": [
    {
     "name": "stdout",
     "output_type": "stream",
     "text": [
      "0 0\n"
     ]
    }
   ],
   "source": [
    "# <https://www.acmicpc.net/problem/2525>\n",
    "now_h_m = input()\n",
    "cook_dur = int(input())\n",
    "\n",
    "now = int(now_h_m.split(\" \")[0]) * 60 + int(now_h_m.split(\" \")[1])\n",
    "\n",
    "alarm = now + cook_dur\n",
    "\n",
    "if alarm >= (24 * 60) :\n",
    "    alarm = alarm % (24 * 60)\n",
    "\n",
    "alarm_h_m = str((alarm // 60) % 24) + \" \" + str(alarm % 60)\n",
    "\n",
    "print(alarm_h_m)"
   ]
  },
  {
   "cell_type": "code",
   "execution_count": 45,
   "metadata": {},
   "outputs": [
    {
     "name": "stdout",
     "output_type": "stream",
     "text": [
      "600\n"
     ]
    }
   ],
   "source": [
    "# <https://www.acmicpc.net/problem/2480>\n",
    "nums = input()\n",
    "face1 = int(nums.split(\" \")[0])\n",
    "face2 = int(nums.split(\" \")[1])\n",
    "face3 = int(nums.split(\" \")[2])\n",
    "\n",
    "if (face1 == face2) and (face1 == face3) :      # 모두 같음\n",
    "    prize = 10000 + (face1 * 1000)\n",
    "\n",
    "elif (face1 == face2) or (face1 == face3) or (face2 == face3) : # 두 개 같음\n",
    "\n",
    "    if face1 == face2 or face1 == face3 :       # 1과 같음\n",
    "        prize = 1000 + (face1 * 100)\n",
    "\n",
    "    else :\n",
    "        prize = 1000 + (face2 * 100)        \n",
    "\n",
    "else :\n",
    "    if face1 > face2:\n",
    "        if face1 > face3:\n",
    "            prize = face1 * 100\n",
    "\n",
    "        else:\n",
    "            prize = face3 * 100\n",
    "\n",
    "    else:\n",
    "        if face2 > face3:\n",
    "            prize = face2 * 100\n",
    "\n",
    "        else:\n",
    "            prize = face3 * 100\n",
    "\n",
    "print(prize)"
   ]
  },
  {
   "cell_type": "markdown",
   "metadata": {},
   "source": [
    "## 단계3: 반복문"
   ]
  },
  {
   "cell_type": "code",
   "execution_count": 46,
   "metadata": {},
   "outputs": [
    {
     "name": "stdout",
     "output_type": "stream",
     "text": [
      "2 * 1 = 2\n",
      "2 * 2 = 4\n",
      "2 * 3 = 6\n",
      "2 * 4 = 8\n",
      "2 * 5 = 10\n",
      "2 * 6 = 12\n",
      "2 * 7 = 14\n",
      "2 * 8 = 16\n",
      "2 * 9 = 18\n"
     ]
    }
   ],
   "source": [
    "# <https://www.acmicpc.net/problem/2739>\n",
    "base = int(input())\n",
    "for i in range(1, 10):\n",
    "    print(f\"{base} * {i} = {base * i}\")"
   ]
  },
  {
   "cell_type": "code",
   "execution_count": 48,
   "metadata": {},
   "outputs": [
    {
     "name": "stdout",
     "output_type": "stream",
     "text": [
      "2\n",
      "5\n",
      "7\n",
      "17\n",
      "7\n"
     ]
    }
   ],
   "source": [
    "# <https://www.acmicpc.net/problem/10950>\n",
    "count = int(input())\n",
    "for i in range(count) :\n",
    "    nums = input()\n",
    "    n1 = int(nums.split(\" \")[0])\n",
    "    n2 = int(nums.split(\" \")[1])\n",
    "    ans = n1 + n2\n",
    "    print(ans)"
   ]
  },
  {
   "cell_type": "code",
   "execution_count": 53,
   "metadata": {},
   "outputs": [
    {
     "name": "stdout",
     "output_type": "stream",
     "text": [
      "5050\n"
     ]
    }
   ],
   "source": [
    "# <https://www.acmicpc.net/problem/8393>\n",
    "max = int(input())\n",
    "sum = 0\n",
    "for i in range(max + 1):\n",
    "    sum = sum + i\n",
    "print(sum)"
   ]
  },
  {
   "cell_type": "code",
   "execution_count": 54,
   "metadata": {},
   "outputs": [
    {
     "name": "stdout",
     "output_type": "stream",
     "text": [
      "Yes\n"
     ]
    }
   ],
   "source": [
    "# <https://www.acmicpc.net/problem/25304>\n",
    "price_total = int(input())\n",
    "count_total = int(input())\n",
    "price_sum = 0\n",
    "for i in range(count_total):\n",
    "    item_info = input()\n",
    "    price_item = int(item_info.split(\" \")[0])\n",
    "    count_item = int(item_info.split(\" \")[1])\n",
    "    sub_total = price_item * count_item\n",
    "    price_sum = price_sum + sub_total\n",
    "if price_sum == price_total :\n",
    "    print(\"Yes\")\n",
    "else:\n",
    "    print(\"No\")"
   ]
  },
  {
   "cell_type": "code",
   "execution_count": 55,
   "metadata": {},
   "outputs": [
    {
     "name": "stdout",
     "output_type": "stream",
     "text": [
      "<class 'int'>\n"
     ]
    }
   ],
   "source": [
    "# <https://www.acmicpc.net/problem/25314>\n",
    "a = 1\n",
    "print(type(a))"
   ]
  }
 ],
 "metadata": {
  "kernelspec": {
   "display_name": "Python 3",
   "language": "python",
   "name": "python3"
  },
  "language_info": {
   "codemirror_mode": {
    "name": "ipython",
    "version": 3
   },
   "file_extension": ".py",
   "mimetype": "text/x-python",
   "name": "python",
   "nbconvert_exporter": "python",
   "pygments_lexer": "ipython3",
   "version": "3.10.13"
  }
 },
 "nbformat": 4,
 "nbformat_minor": 2
}
