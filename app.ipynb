{
 "cells": [
  {
   "cell_type": "code",
   "execution_count": null,
   "metadata": {},
   "outputs": [],
   "source": [
    "인사 = \"\"\"안녕하\n",
    "\n",
    "세요!\"\"\"\n",
    "print(인사)\n",
    "print(file=\"./hi.txt\")"
   ]
  },
  {
   "cell_type": "markdown",
   "metadata": {},
   "source": [
    "## [백준2557] Hello World"
   ]
  },
  {
   "cell_type": "code",
   "execution_count": null,
   "metadata": {},
   "outputs": [],
   "source": [
    "print(\"Hello World!\")"
   ]
  },
  {
   "cell_type": "markdown",
   "metadata": {},
   "source": [
    "## 연수"
   ]
  },
  {
   "cell_type": "code",
   "execution_count": null,
   "metadata": {},
   "outputs": [],
   "source": [
    "len(\"영일이삼사오육칠팔구\")"
   ]
  },
  {
   "cell_type": "code",
   "execution_count": null,
   "metadata": {},
   "outputs": [],
   "source": [
    "print(\"영일이삼사오육칠팔구\"[2])"
   ]
  },
  {
   "cell_type": "code",
   "execution_count": null,
   "metadata": {},
   "outputs": [],
   "source": [
    "print(\"구팔칠육오사삼이일\"[-1])"
   ]
  },
  {
   "cell_type": "code",
   "execution_count": null,
   "metadata": {},
   "outputs": [],
   "source": [
    "print(\"0123456789\"[-1:-4:-1])"
   ]
  },
  {
   "cell_type": "code",
   "execution_count": null,
   "metadata": {},
   "outputs": [],
   "source": [
    "iii=input()\n",
    "print(iii)"
   ]
  },
  {
   "cell_type": "code",
   "execution_count": null,
   "metadata": {},
   "outputs": [],
   "source": [
    "age = input(\" # Your age is :\")"
   ]
  },
  {
   "cell_type": "code",
   "execution_count": null,
   "metadata": {},
   "outputs": [],
   "source": [
    "float(eval(str(int(age)) + str(-10)))"
   ]
  },
  {
   "cell_type": "code",
   "execution_count": null,
   "metadata": {},
   "outputs": [],
   "source": [
    "print(\"a+b의 값을 출력합니다.\")\n",
    "a = input(\"a: \")\n",
    "b = input(\"b: \")\n",
    "print(\"a  =\"+a+\"\\n  b=\"+b+\"\\na+b=\"+str(int(a)+int(b)))"
   ]
  },
  {
   "cell_type": "markdown",
   "metadata": {},
   "source": [
    "## [백준1000] A+B"
   ]
  },
  {
   "cell_type": "code",
   "execution_count": null,
   "metadata": {},
   "outputs": [],
   "source": [
    "eq=input()\n",
    "a=int(eq[0])\n",
    "b=int(eq[-1])\n",
    "print(a+b)"
   ]
  },
  {
   "cell_type": "code",
   "execution_count": null,
   "metadata": {},
   "outputs": [],
   "source": [
    "a, b = input().split(\" \")\n",
    "a = int(a)\n",
    "b = int(b)\n",
    "print(a+b)"
   ]
  },
  {
   "cell_type": "markdown",
   "metadata": {},
   "source": [
    "## [백준1001] A-B"
   ]
  },
  {
   "cell_type": "code",
   "execution_count": null,
   "metadata": {},
   "outputs": [],
   "source": [
    "A, B = input().split(\" \")\n",
    "A = int(A)\n",
    "B = int(B)\n",
    "print(A - B)"
   ]
  },
  {
   "cell_type": "code",
   "execution_count": null,
   "metadata": {},
   "outputs": [],
   "source": [
    "eq = input()\n",
    "a = int(eq[0])\n",
    "b = int(eq[-1])\n",
    "print(a - b)"
   ]
  },
  {
   "cell_type": "code",
   "execution_count": null,
   "metadata": {},
   "outputs": [],
   "source": [
    "eq = input()\n",
    "a = int(eq[0])\n",
    "b = int(eq[-1])\n",
    "print(a * b)"
   ]
  },
  {
   "cell_type": "code",
   "execution_count": null,
   "metadata": {},
   "outputs": [],
   "source": [
    "eq = input()\n",
    "a = int(eq[0])\n",
    "b = int(eq[-1])\n",
    "ans = a/b\n",
    "print(ans)"
   ]
  },
  {
   "cell_type": "code",
   "execution_count": null,
   "metadata": {},
   "outputs": [],
   "source": [
    "nums = input()\n",
    "a = int(nums.split(\" \")[0])\n",
    "b = int(nums.split(\" \")[1])\n",
    "print(a+b)\n",
    "print(a-b)\n",
    "print(a*b)\n",
    "print(a//b)\n",
    "print(a%b)"
   ]
  },
  {
   "cell_type": "code",
   "execution_count": null,
   "metadata": {},
   "outputs": [],
   "source": [
    "name = input()\n",
    "print(name,\"??!\", sep=\"\")"
   ]
  },
  {
   "cell_type": "code",
   "execution_count": null,
   "metadata": {},
   "outputs": [],
   "source": [
    "불기 = int(input())\n",
    "서기 = 불기 - 2541 + 1998\n",
    "print(서기)"
   ]
  },
  {
   "cell_type": "code",
   "execution_count": null,
   "metadata": {},
   "outputs": [],
   "source": [
    "nums = input()\n",
    "a = int(nums.split(\" \")[0])\n",
    "b = int(nums.split(\" \")[1])\n",
    "c = int(nums.split(\" \")[2])\n",
    "print((a+b)%c)\n",
    "print(((a%c)+(b%c))%c)\n",
    "print((a*b)%c)\n",
    "print(((a%c)*(b%c))%c)"
   ]
  },
  {
   "cell_type": "code",
   "execution_count": null,
   "metadata": {},
   "outputs": [],
   "source": [
    "num1 = input()\n",
    "num2 = input()\n",
    "ans3 = int(num1) * int(num2[-1])\n",
    "ans4 = int(num1) * int(num2[-2])\n",
    "ans5 = int(num1) * int(num2[-3])\n",
    "ans6 = int(num1) * int(num2)\n",
    "print(ans3)\n",
    "print(ans4)\n",
    "print(ans5)\n",
    "print(ans6)"
   ]
  },
  {
   "cell_type": "code",
   "execution_count": null,
   "metadata": {},
   "outputs": [],
   "source": [
    "nums = input()\n",
    "a = int(nums.split(\" \")[0])\n",
    "b = int(nums.split(\" \")[1])\n",
    "c = int(nums.split(\" \")[2])\n",
    "ans = a+b+c\n",
    "print(ans)"
   ]
  },
  {
   "cell_type": "code",
   "execution_count": null,
   "metadata": {},
   "outputs": [],
   "source": [
    "cat = \"\"\"\\\\    /\\\\\n",
    " )  ( ')\n",
    "(  /  )\n",
    " \\\\(__)|\"\"\"\n",
    "print(cat)"
   ]
  },
  {
   "cell_type": "code",
   "execution_count": null,
   "metadata": {},
   "outputs": [],
   "source": [
    "cat = r\"\"\"\\    /\\\n",
    " )  ( ')\n",
    "(  /  )\n",
    " \\(__)|\"\"\"\n",
    "print(cat)"
   ]
  },
  {
   "cell_type": "code",
   "execution_count": null,
   "metadata": {},
   "outputs": [],
   "source": [
    "dog = '''|\\\\_/|\n",
    "|q p|   /}\n",
    "( 0 )\"\"\"\\\\\n",
    "|\"^\"`    |\n",
    "||_/=\\\\\\\\__|'''\n",
    "print(dog)"
   ]
  },
  {
   "cell_type": "code",
   "execution_count": null,
   "metadata": {},
   "outputs": [],
   "source": [
    "\"000 111 222 333 444 555 666 777 888 999\".split()[:7:3]"
   ]
  },
  {
   "cell_type": "code",
   "execution_count": null,
   "metadata": {},
   "outputs": [],
   "source": [
    "nums = input()\n",
    "a = int(nums.split(\" \")[0])\n",
    "b = int(nums.split(\" \")[1])\n",
    "if a < b :\n",
    "    print(\"<\")\n",
    "elif a > b :\n",
    "    print(\">\")\n",
    "elif a == b :\n",
    "    print(\"==\")"
   ]
  },
  {
   "cell_type": "code",
   "execution_count": null,
   "metadata": {},
   "outputs": [],
   "source": [
    "score = int(input())\n",
    "if score >= 90:\n",
    "    print(\"A\")\n",
    "elif score >= 80:\n",
    "    print(\"B\")\n",
    "elif score >= 70:\n",
    "    print(\"C\")\n",
    "elif score >= 60:\n",
    "    print(\"D\")\n",
    "else:\n",
    "    print(\"F\")"
   ]
  },
  {
   "cell_type": "code",
   "execution_count": null,
   "metadata": {},
   "outputs": [],
   "source": [
    "year = int(input())\n",
    "if (year % 4 == 0) and ((year % 100 != 0) or (year % 400 == 0)):\n",
    "    print(1)\n",
    "else:\n",
    "    print(0)"
   ]
  },
  {
   "cell_type": "code",
   "execution_count": null,
   "metadata": {},
   "outputs": [],
   "source": [
    "x = int(input())\n",
    "y = int(input())\n",
    "if y > 0 :\n",
    "    if x > 0 :\n",
    "        print(1)\n",
    "    else:\n",
    "        print(2)\n",
    "else:\n",
    "    if x < 0 :\n",
    "        print(3)\n",
    "    else:\n",
    "        print(4)"
   ]
  },
  {
   "cell_type": "code",
   "execution_count": null,
   "metadata": {},
   "outputs": [],
   "source": [
    "time = input()\n",
    "H = int(time.split(\" \")[0])\n",
    "M = int(time.split(\" \")[1])\n",
    "HM = int(H * 60 + M)\n",
    "alarm_HM = int(HM - 45)\n",
    "if alarm_HM < 0 :\n",
    "    alarm_HM = int(alarm_HM + (24 * 60))\n",
    "alarm_H = str(alarm_HM // 60)\n",
    "alarm_M = str(alarm_HM % 60)\n",
    "print(alarm_H, alarm_M)"
   ]
  },
  {
   "cell_type": "code",
   "execution_count": null,
   "metadata": {},
   "outputs": [],
   "source": [
    "l = [ 1, 2, 3, 4, 5 ]\n",
    "\n",
    "for i in l:\n",
    "    print(i, end=\"❤️\", file=open(\"a.txt\", \"a\"))"
   ]
  },
  {
   "cell_type": "code",
   "execution_count": null,
   "metadata": {},
   "outputs": [],
   "source": [
    "print(list())\n",
    "print(range(1,46))\n",
    "print(list(range(1,46)))"
   ]
  },
  {
   "cell_type": "code",
   "execution_count": null,
   "metadata": {},
   "outputs": [],
   "source": [
    "ans = 0\n",
    "for i in range(1, 11):\n",
    "    ans = ans + i\n",
    "print(ans)"
   ]
  },
  {
   "cell_type": "code",
   "execution_count": null,
   "metadata": {},
   "outputs": [],
   "source": [
    "ans = 0\n",
    "for i in range(2, 11, 2):\n",
    "    ans = ans + i\n",
    "print(ans)"
   ]
  },
  {
   "cell_type": "code",
   "execution_count": null,
   "metadata": {},
   "outputs": [],
   "source": [
    "i = 10\n",
    "while True :\n",
    "    print(i)\n",
    "    i = i - 1\n",
    "    if i < 1 :\n",
    "        break"
   ]
  },
  {
   "cell_type": "code",
   "execution_count": null,
   "metadata": {},
   "outputs": [],
   "source": [
    "l = \"안녕핫세요\"\n",
    "print(l)\n",
    "print(l[2])\n",
    "l[2] = \"하\"\n",
    "print(l)"
   ]
  },
  {
   "cell_type": "code",
   "execution_count": null,
   "metadata": {},
   "outputs": [],
   "source": [
    "data = 10, 20\n",
    "print(data)"
   ]
  },
  {
   "cell_type": "code",
   "execution_count": null,
   "metadata": {},
   "outputs": [],
   "source": [
    "data = 100, \n",
    "print(data)\n",
    "print(data[0])\n",
    "print(data[-1])"
   ]
  },
  {
   "cell_type": "code",
   "execution_count": null,
   "metadata": {},
   "outputs": [],
   "source": [
    "cars = [\"기아\", \"현대\", \"bmw\", \"audi\", \"toyota\"]\n",
    "for car in cars :\n",
    "    if car == \"bmw\" :\n",
    "        print(car.upper())\n",
    "    else:\n",
    "        print(car.title())\n"
   ]
  },
  {
   "cell_type": "code",
   "execution_count": null,
   "metadata": {},
   "outputs": [],
   "source": [
    "print(1==2)"
   ]
  },
  {
   "cell_type": "code",
   "execution_count": null,
   "metadata": {},
   "outputs": [],
   "source": [
    "우리반학생 = [\"김범수\", \"나얼\", \"박효신\"]\n",
    "print(not (\"김범\" in 우리반학생))\n",
    "print(\"김범\" not in 우리반학생)"
   ]
  },
  {
   "cell_type": "code",
   "execution_count": null,
   "metadata": {},
   "outputs": [],
   "source": [
    "print(True == True)\n",
    "print(1 == True)\n",
    "print(0 == True)\n",
    "print(() == True)\n",
    "print([] == True)\n",
    "print(\"\" == True)"
   ]
  },
  {
   "cell_type": "code",
   "execution_count": null,
   "metadata": {},
   "outputs": [],
   "source": [
    "점수들 = [79,23,67,80,90,20]\n",
    "for 점수 in 점수들:\n",
    "    if 점수 >= 90:\n",
    "        print(\"상\")\n",
    "    elif 점수 >= 80:\n",
    "        print(\"중\")\n",
    "    else:\n",
    "        print(\"하\")"
   ]
  },
  {
   "cell_type": "code",
   "execution_count": null,
   "metadata": {},
   "outputs": [],
   "source": [
    "나 = {\n",
    "    \"이름\" : \"박성준\",\n",
    "    \"학교\" : \"월곡초\",\n",
    "    \"나이\" : 40,\n",
    "    \"취미\" : [\"코딩\", \"유튜브\", \"게임\"]\n",
    "}\n",
    "for i in 나:\n",
    "    print((i, 나[i]))"
   ]
  },
  {
   "cell_type": "code",
   "execution_count": null,
   "metadata": {},
   "outputs": [],
   "source": [
    "나 = {\n",
    "    \"이름\" : \"박성준\",\n",
    "    \"학교\" : \"월곡초\",\n",
    "    \"나이\" : 40,\n",
    "    \"취미\" : [\"코딩\", \"유튜브\", \"게임\"]\n",
    "}\n",
    "for k, v in 나.items():\n",
    "    print(f\"키는 {k}이고, 값은 {v}입니다.\")\n",
    "print(나.items())"
   ]
  },
  {
   "cell_type": "code",
   "execution_count": null,
   "metadata": {},
   "outputs": [],
   "source": [
    "%pip install requests"
   ]
  },
  {
   "cell_type": "code",
   "execution_count": null,
   "metadata": {},
   "outputs": [],
   "source": [
    "import requests"
   ]
  },
  {
   "cell_type": "code",
   "execution_count": null,
   "metadata": {},
   "outputs": [],
   "source": [
    "r = requests.get(\"https://edu.cbe.go.kr\")"
   ]
  },
  {
   "cell_type": "code",
   "execution_count": null,
   "metadata": {},
   "outputs": [],
   "source": [
    "r.status_code"
   ]
  },
  {
   "cell_type": "code",
   "execution_count": null,
   "metadata": {},
   "outputs": [],
   "source": [
    "print(r.text, file=open(\"a.html\", \"w\"))"
   ]
  },
  {
   "cell_type": "code",
   "execution_count": null,
   "metadata": {},
   "outputs": [],
   "source": [
    "url = \"https://open.neis.go.kr/hub/schoolInfo\"\n",
    "params = {\n",
    "    \"ATPT_OFCDC_SC_CODE\": \"M10\",\n",
    "    \"SCHUL_NM\": \"청주고\",\n",
    "    \"Type\": \"json\"\n",
    "}\n",
    "res = requests.get(url, params=params).json()\n",
    "print(res[\"schoolInfo\"][1][\"row\"][0][\"ORG_TELNO\"])"
   ]
  },
  {
   "cell_type": "code",
   "execution_count": null,
   "metadata": {},
   "outputs": [],
   "source": [
    "from pyparsing import Regex\n",
    "\n",
    "\n",
    "url = \"https://open.neis.go.kr/hub/mealServiceDietInfo\"\n",
    "params = {\n",
    "    \"Type\": \"json\",\n",
    "    \"ATPT_OFCDC_SC_CODE\": \"M10\",\n",
    "    \"SD_SCHUL_CODE\": \"8000066\",\n",
    "    \"MLSV_YMD\": \"20231222\"\n",
    "}\n",
    "res = requests.get(url, params).json()\n",
    "meal_raw = res[\"mealServiceDietInfo\"][1][\"row\"][0][\"DDISH_NM\"]\n",
    "meal = meal_raw.replace(\"<br/>\", \"\\n\")\n",
    "print(meal)\n"
   ]
  },
  {
   "cell_type": "code",
   "execution_count": null,
   "metadata": {},
   "outputs": [],
   "source": [
    "%pip install openpyxl"
   ]
  },
  {
   "cell_type": "code",
   "execution_count": 72,
   "metadata": {},
   "outputs": [],
   "source": [
    "import openpyxl"
   ]
  },
  {
   "cell_type": "code",
   "execution_count": 73,
   "metadata": {},
   "outputs": [],
   "source": [
    "wb = openpyxl.Workbook()"
   ]
  },
  {
   "cell_type": "code",
   "execution_count": 74,
   "metadata": {},
   "outputs": [],
   "source": [
    "sh = wb.create_sheet(\"파이썬시트\")"
   ]
  },
  {
   "cell_type": "code",
   "execution_count": 75,
   "metadata": {},
   "outputs": [],
   "source": [
    "wb.save(\"test.xlsx\")"
   ]
  },
  {
   "cell_type": "code",
   "execution_count": 79,
   "metadata": {},
   "outputs": [
    {
     "name": "stderr",
     "output_type": "stream",
     "text": [
      "/tmp/ipykernel_32029/1073341763.py:1: DeprecationWarning: Call to deprecated function get_sheet_by_name (Use wb[sheetname]).\n",
      "  mysh = wb.get_sheet_by_name(\"파이썬시트\")\n"
     ]
    }
   ],
   "source": [
    "mysh = wb.get_sheet_by_name(\"파이썬시트\")"
   ]
  },
  {
   "cell_type": "code",
   "execution_count": 80,
   "metadata": {},
   "outputs": [],
   "source": [
    "mysh[\"A1\"] = \"언어\"\n",
    "mysh[\"B1\"] = \"친밀도\"\n",
    "mysh[\"A2\"] = \"파이썬\"\n",
    "mysh[\"B2\"] = \"매우 친함\""
   ]
  },
  {
   "cell_type": "code",
   "execution_count": 82,
   "metadata": {},
   "outputs": [],
   "source": [
    "wb.save(\"test.xlsx\")"
   ]
  },
  {
   "cell_type": "code",
   "execution_count": 84,
   "metadata": {},
   "outputs": [
    {
     "data": {
      "text/plain": [
       "'친밀도'"
      ]
     },
     "execution_count": 84,
     "metadata": {},
     "output_type": "execute_result"
    }
   ],
   "source": [
    "mysh[\"B1\"].value"
   ]
  },
  {
   "cell_type": "code",
   "execution_count": 86,
   "metadata": {},
   "outputs": [
    {
     "data": {
      "text/plain": [
       "'언어'"
      ]
     },
     "execution_count": 86,
     "metadata": {},
     "output_type": "execute_result"
    }
   ],
   "source": [
    "mysh.cell(row=1, column=1).value"
   ]
  },
  {
   "cell_type": "code",
   "execution_count": 87,
   "metadata": {},
   "outputs": [
    {
     "name": "stdout",
     "output_type": "stream",
     "text": [
      "1\n",
      "2\n",
      "3\n",
      "4\n",
      "5\n",
      "6\n",
      "7\n",
      "8\n",
      "9\n",
      "10\n"
     ]
    }
   ],
   "source": [
    "for i in range(1, 11):\n",
    "    mysh.cell(1, i).value = i\n",
    "for i in range(1, 11):\n",
    "    print(mysh.cell(1, i).value)"
   ]
  },
  {
   "cell_type": "code",
   "execution_count": 88,
   "metadata": {},
   "outputs": [],
   "source": [
    "wb = openpyxl.load_workbook(\"test.xlsx\")"
   ]
  },
  {
   "cell_type": "code",
   "execution_count": 90,
   "metadata": {},
   "outputs": [
    {
     "name": "stderr",
     "output_type": "stream",
     "text": [
      "/tmp/ipykernel_32029/2761901803.py:1: DeprecationWarning: Call to deprecated function get_sheet_by_name (Use wb[sheetname]).\n",
      "  sh = wb.get_sheet_by_name(\"Sheet1\")\n"
     ]
    }
   ],
   "source": [
    "sh = wb.get_sheet_by_name(\"Sheet1\")"
   ]
  },
  {
   "cell_type": "code",
   "execution_count": 92,
   "metadata": {},
   "outputs": [
    {
     "data": {
      "text/plain": [
       "'이름'"
      ]
     },
     "execution_count": 92,
     "metadata": {},
     "output_type": "execute_result"
    }
   ],
   "source": [
    "sh[\"A1\"].value"
   ]
  },
  {
   "cell_type": "code",
   "execution_count": 95,
   "metadata": {},
   "outputs": [
    {
     "name": "stdout",
     "output_type": "stream",
     "text": [
      "<generator object Worksheet._cells_by_row at 0x7f1d87038ba0>\n"
     ]
    }
   ],
   "source": [
    "print(sh.rows)"
   ]
  },
  {
   "cell_type": "code",
   "execution_count": 115,
   "metadata": {},
   "outputs": [
    {
     "ename": "ValueError",
     "evalue": "invalid literal for int() with base 10: '성적'",
     "output_type": "error",
     "traceback": [
      "\u001b[0;31m---------------------------------------------------------------------------\u001b[0m",
      "\u001b[0;31mValueError\u001b[0m                                Traceback (most recent call last)",
      "Cell \u001b[0;32mIn[115], line 8\u001b[0m\n\u001b[1;32m      6\u001b[0m     \u001b[38;5;28;01mpass\u001b[39;00m\n\u001b[1;32m      7\u001b[0m 이름 \u001b[38;5;241m=\u001b[39m r[\u001b[38;5;241m0\u001b[39m]\u001b[38;5;241m.\u001b[39mvalue\n\u001b[0;32m----> 8\u001b[0m 점수 \u001b[38;5;241m=\u001b[39m \u001b[38;5;28;43mint\u001b[39;49m\u001b[43m(\u001b[49m\u001b[43mr\u001b[49m\u001b[43m[\u001b[49m\u001b[38;5;241;43m1\u001b[39;49m\u001b[43m]\u001b[49m\u001b[38;5;241;43m.\u001b[39;49m\u001b[43mvalue\u001b[49m\u001b[43m)\u001b[49m\n\u001b[1;32m      9\u001b[0m 이름들\u001b[38;5;241m.\u001b[39mappend(이름)\n\u001b[1;32m     10\u001b[0m 점수들\u001b[38;5;241m.\u001b[39mappend(점수)\n",
      "\u001b[0;31mValueError\u001b[0m: invalid literal for int() with base 10: '성적'"
     ]
    }
   ],
   "source": [
    "이름들 = []\n",
    "점수들 = []\n",
    "상중하들 = []\n",
    "for r in sh.rows:\n",
    "    if (r[1].value) == '성적':\n",
    "        pass\n",
    "    이름 = r[0].value\n",
    "    점수 = int(r[1].value)\n",
    "    이름들.append(이름)\n",
    "    점수들.append(점수)\n",
    "    if 점수 >= 90:\n",
    "        상중하 = \"상\"\n",
    "        상중하들.append[상중하]\n",
    "    elif 점수 >= 80:\n",
    "        상중하 = \"중\"\n",
    "        상중하들.append[상중하]\n",
    "    else:\n",
    "        상중하 = \"하\"\n",
    "        상중하들.append[상중하]\n",
    "이름들 = tuple(이름들[1:])\n",
    "점수들 = tuple(점수들[1:])\n",
    "상중하들 = tuple(상중하들[1:])\n",
    "\n",
    "print(이름들, 점수들, 상중하들, sep=\"\\n\")"
   ]
  }
 ],
 "metadata": {
  "kernelspec": {
   "display_name": "Python 3",
   "language": "python",
   "name": "python3"
  },
  "language_info": {
   "codemirror_mode": {
    "name": "ipython",
    "version": 3
   },
   "file_extension": ".py",
   "mimetype": "text/x-python",
   "name": "python",
   "nbconvert_exporter": "python",
   "pygments_lexer": "ipython3",
   "version": "3.10.13"
  }
 },
 "nbformat": 4,
 "nbformat_minor": 2
}
