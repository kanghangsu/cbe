{
 "cells": [
  {
   "cell_type": "code",
   "execution_count": null,
   "metadata": {},
   "outputs": [],
   "source": [
    "인사 = \"\"\"안녕하\n",
    "\n",
    "세요!\"\"\"\n",
    "print(인사)\n",
    "print(file=\"./hi.txt\")"
   ]
  },
  {
   "cell_type": "markdown",
   "metadata": {},
   "source": [
    "## [백준2557] Hello World"
   ]
  },
  {
   "cell_type": "code",
   "execution_count": null,
   "metadata": {},
   "outputs": [],
   "source": [
    "print(\"Hello World!\")"
   ]
  },
  {
   "cell_type": "markdown",
   "metadata": {},
   "source": [
    "## 연수"
   ]
  },
  {
   "cell_type": "code",
   "execution_count": null,
   "metadata": {},
   "outputs": [],
   "source": [
    "len(\"영일이삼사오육칠팔구\")"
   ]
  },
  {
   "cell_type": "code",
   "execution_count": null,
   "metadata": {},
   "outputs": [],
   "source": [
    "print(\"영일이삼사오육칠팔구\"[2])"
   ]
  },
  {
   "cell_type": "code",
   "execution_count": null,
   "metadata": {},
   "outputs": [],
   "source": [
    "print(\"구팔칠육오사삼이일\"[-1])"
   ]
  },
  {
   "cell_type": "code",
   "execution_count": null,
   "metadata": {},
   "outputs": [],
   "source": [
    "print(\"0123456789\"[-1:-4:-1])"
   ]
  },
  {
   "cell_type": "code",
   "execution_count": null,
   "metadata": {},
   "outputs": [],
   "source": [
    "iii=input()\n",
    "print(iii)"
   ]
  },
  {
   "cell_type": "code",
   "execution_count": null,
   "metadata": {},
   "outputs": [],
   "source": [
    "age = input(\" # Your age is :\")"
   ]
  },
  {
   "cell_type": "code",
   "execution_count": null,
   "metadata": {},
   "outputs": [],
   "source": [
    "float(eval(str(int(age)) + str(-10)))"
   ]
  },
  {
   "cell_type": "code",
   "execution_count": null,
   "metadata": {},
   "outputs": [],
   "source": [
    "print(\"a+b의 값을 출력합니다.\")\n",
    "a = input(\"a: \")\n",
    "b = input(\"b: \")\n",
    "print(\"a  =\"+a+\"\\n  b=\"+b+\"\\na+b=\"+str(int(a)+int(b)))"
   ]
  },
  {
   "cell_type": "markdown",
   "metadata": {},
   "source": [
    "## [백준1000] A+B"
   ]
  },
  {
   "cell_type": "code",
   "execution_count": null,
   "metadata": {},
   "outputs": [],
   "source": [
    "eq=input()\n",
    "a=int(eq[0])\n",
    "b=int(eq[-1])\n",
    "print(a+b)"
   ]
  },
  {
   "cell_type": "code",
   "execution_count": null,
   "metadata": {},
   "outputs": [],
   "source": [
    "a, b = input().split(\" \")\n",
    "a = int(a)\n",
    "b = int(b)\n",
    "print(a+b)"
   ]
  },
  {
   "cell_type": "markdown",
   "metadata": {},
   "source": [
    "## [백준1001] A-B"
   ]
  },
  {
   "cell_type": "code",
   "execution_count": null,
   "metadata": {},
   "outputs": [],
   "source": [
    "A, B = input().split(\" \")\n",
    "A = int(A)\n",
    "B = int(B)\n",
    "print(A - B)"
   ]
  },
  {
   "cell_type": "code",
   "execution_count": null,
   "metadata": {},
   "outputs": [],
   "source": [
    "eq = input()\n",
    "a = int(eq[0])\n",
    "b = int(eq[-1])\n",
    "print(a - b)"
   ]
  },
  {
   "cell_type": "code",
   "execution_count": null,
   "metadata": {},
   "outputs": [],
   "source": [
    "eq = input()\n",
    "a = int(eq[0])\n",
    "b = int(eq[-1])\n",
    "print(a * b)"
   ]
  },
  {
   "cell_type": "code",
   "execution_count": null,
   "metadata": {},
   "outputs": [],
   "source": [
    "eq = input()\n",
    "a = int(eq[0])\n",
    "b = int(eq[-1])\n",
    "ans = a/b\n",
    "print(ans)"
   ]
  },
  {
   "cell_type": "code",
   "execution_count": null,
   "metadata": {},
   "outputs": [],
   "source": [
    "nums = input()\n",
    "a = int(nums.split(\" \")[0])\n",
    "b = int(nums.split(\" \")[1])\n",
    "print(a+b)\n",
    "print(a-b)\n",
    "print(a*b)\n",
    "print(a//b)\n",
    "print(a%b)"
   ]
  },
  {
   "cell_type": "code",
   "execution_count": null,
   "metadata": {},
   "outputs": [],
   "source": [
    "name = input()\n",
    "print(name,\"??!\", sep=\"\")"
   ]
  },
  {
   "cell_type": "code",
   "execution_count": null,
   "metadata": {},
   "outputs": [],
   "source": [
    "불기 = int(input())\n",
    "서기 = 불기 - 2541 + 1998\n",
    "print(서기)"
   ]
  },
  {
   "cell_type": "code",
   "execution_count": null,
   "metadata": {},
   "outputs": [],
   "source": [
    "nums = input()\n",
    "a = int(nums.split(\" \")[0])\n",
    "b = int(nums.split(\" \")[1])\n",
    "c = int(nums.split(\" \")[2])\n",
    "print((a+b)%c)\n",
    "print(((a%c)+(b%c))%c)\n",
    "print((a*b)%c)\n",
    "print(((a%c)*(b%c))%c)"
   ]
  },
  {
   "cell_type": "code",
   "execution_count": null,
   "metadata": {},
   "outputs": [],
   "source": [
    "num1 = input()\n",
    "num2 = input()\n",
    "ans3 = int(num1) * int(num2[-1])\n",
    "ans4 = int(num1) * int(num2[-2])\n",
    "ans5 = int(num1) * int(num2[-3])\n",
    "ans6 = int(num1) * int(num2)\n",
    "print(ans3)\n",
    "print(ans4)\n",
    "print(ans5)\n",
    "print(ans6)"
   ]
  },
  {
   "cell_type": "code",
   "execution_count": null,
   "metadata": {},
   "outputs": [],
   "source": [
    "nums = input()\n",
    "a = int(nums.split(\" \")[0])\n",
    "b = int(nums.split(\" \")[1])\n",
    "c = int(nums.split(\" \")[2])\n",
    "ans = a+b+c\n",
    "print(ans)"
   ]
  },
  {
   "cell_type": "code",
   "execution_count": null,
   "metadata": {},
   "outputs": [],
   "source": [
    "cat = \"\"\"\\\\    /\\\\\n",
    " )  ( ')\n",
    "(  /  )\n",
    " \\\\(__)|\"\"\"\n",
    "print(cat)"
   ]
  },
  {
   "cell_type": "code",
   "execution_count": null,
   "metadata": {},
   "outputs": [],
   "source": [
    "cat = r\"\"\"\\    /\\\n",
    " )  ( ')\n",
    "(  /  )\n",
    " \\(__)|\"\"\"\n",
    "print(cat)"
   ]
  },
  {
   "cell_type": "code",
   "execution_count": null,
   "metadata": {},
   "outputs": [],
   "source": [
    "dog = '''|\\\\_/|\n",
    "|q p|   /}\n",
    "( 0 )\"\"\"\\\\\n",
    "|\"^\"`    |\n",
    "||_/=\\\\\\\\__|'''\n",
    "print(dog)"
   ]
  },
  {
   "cell_type": "code",
   "execution_count": null,
   "metadata": {},
   "outputs": [],
   "source": [
    "\"000 111 222 333 444 555 666 777 888 999\".split()[:7:3]"
   ]
  },
  {
   "cell_type": "code",
   "execution_count": null,
   "metadata": {},
   "outputs": [],
   "source": [
    "nums = input()\n",
    "a = int(nums.split(\" \")[0])\n",
    "b = int(nums.split(\" \")[1])\n",
    "if a < b :\n",
    "    print(\"<\")\n",
    "elif a > b :\n",
    "    print(\">\")\n",
    "elif a == b :\n",
    "    print(\"==\")"
   ]
  },
  {
   "cell_type": "code",
   "execution_count": null,
   "metadata": {},
   "outputs": [],
   "source": [
    "score = int(input())\n",
    "if score >= 90:\n",
    "    print(\"A\")\n",
    "elif score >= 80:\n",
    "    print(\"B\")\n",
    "elif score >= 70:\n",
    "    print(\"C\")\n",
    "elif score >= 60:\n",
    "    print(\"D\")\n",
    "else:\n",
    "    print(\"F\")"
   ]
  },
  {
   "cell_type": "code",
   "execution_count": null,
   "metadata": {},
   "outputs": [],
   "source": [
    "year = int(input())\n",
    "if (year % 4 == 0) and ((year % 100 != 0) or (year % 400 == 0)):\n",
    "    print(1)\n",
    "else:\n",
    "    print(0)"
   ]
  },
  {
   "cell_type": "code",
   "execution_count": null,
   "metadata": {},
   "outputs": [],
   "source": [
    "x = int(input())\n",
    "y = int(input())\n",
    "if y > 0 :\n",
    "    if x > 0 :\n",
    "        print(1)\n",
    "    else:\n",
    "        print(2)\n",
    "else:\n",
    "    if x < 0 :\n",
    "        print(3)\n",
    "    else:\n",
    "        print(4)"
   ]
  },
  {
   "cell_type": "code",
   "execution_count": 1,
   "metadata": {},
   "outputs": [
    {
     "name": "stdout",
     "output_type": "stream",
     "text": [
      "13 35\n"
     ]
    }
   ],
   "source": [
    "time = input()\n",
    "H = int(time.split(\" \")[0])\n",
    "M = int(time.split(\" \")[1])\n",
    "HM = int(H * 60 + M)\n",
    "alarm_HM = int(HM - 45)\n",
    "if alarm_HM < 0 :\n",
    "    alarm_HM = int(alarm_HM + (24 * 60))\n",
    "alarm_H = str(alarm_HM // 60)\n",
    "alarm_M = str(alarm_HM % 60)\n",
    "print(alarm_H, alarm_M)"
   ]
  },
  {
   "cell_type": "code",
   "execution_count": 2,
   "metadata": {},
   "outputs": [
    {
     "name": "stdout",
     "output_type": "stream",
     "text": [
      "14 20\n"
     ]
    }
   ],
   "source": []
  }
 ],
 "metadata": {
  "kernelspec": {
   "display_name": "Python 3",
   "language": "python",
   "name": "python3"
  },
  "language_info": {
   "codemirror_mode": {
    "name": "ipython",
    "version": 3
   },
   "file_extension": ".py",
   "mimetype": "text/x-python",
   "name": "python",
   "nbconvert_exporter": "python",
   "pygments_lexer": "ipython3",
   "version": "3.10.13"
  }
 },
 "nbformat": 4,
 "nbformat_minor": 2
}
